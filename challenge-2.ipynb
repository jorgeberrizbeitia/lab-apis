{
 "cells": [
  {
   "cell_type": "markdown",
   "id": "0809e785",
   "metadata": {},
   "source": [
    "# 1. Import the necessary libraries for you to be able to query 4square API"
   ]
  },
  {
   "cell_type": "code",
   "execution_count": 14,
   "id": "9b373771",
   "metadata": {},
   "outputs": [],
   "source": [
    "import requests\n",
    "import json\n",
    "import pandas as pd\n",
    "from getpass import getpass\n",
    "\n",
    "# using .env instead of getpass\n",
    "import os"
   ]
  },
  {
   "cell_type": "markdown",
   "id": "e94dce92",
   "metadata": {},
   "source": [
    "# 2. Get names and location of the 10 coffee places by passing Ironhack as your location"
   ]
  },
  {
   "cell_type": "code",
   "execution_count": null,
   "id": "1d72f571",
   "metadata": {},
   "outputs": [
    {
     "name": "stdout",
     "output_type": "stream",
     "text": [
      "Top 10 coffee places near Ironhack:\n",
      "- SKYE Coffee Co | Calle Pamplona, 88 (C. de Pallars), 08018 Barcelona Catalunya\n",
      "- Espacio 88 | Carrer Pamplona, 88, 08018 Barcelona Catalunya\n",
      "- Syra Coffee Poblenou | Calle de Pujades, 100 (C. d'Àlaba), 08005 Barcelona Catalunya\n",
      "- Nømad Frutas Selectas | Calle de Pujades, 95 (C. de Badajoz), 08005 Barcelona\n",
      "- Cafeteria Industrial | Calle de Pallars, 154, 08005 Barcelona Catalunya\n",
      "- Granja Mabel | Marina, 114-116, 08018 Barcelona Catalunya\n",
      "- Market Cuina Fresca | Calle Badajoz, 83, 08005 Barcelona Catalunya\n",
      "- De Pa i Xocolata | Carrer de la Marina, 92, 08018 Barcelona Catalunya\n",
      "- Cacho | Carrer de Llull, 27, 08005 Barcelona Catalunya\n",
      "- Three Marks Coffee | C. d'Ausiàs Marc, 151, 08013 Barcelona Catalunya\n"
     ]
    }
   ],
   "source": [
    "# API key from .env\n",
    "API_KEY = os.getenv(\"API_KEY\")\n",
    "\n",
    "headers = {\n",
    "    \"Accept\": \"application/json\",\n",
    "    \"Authorization\": API_KEY\n",
    "}\n",
    "\n",
    "# lat and long of IH barcelona (now closed) :(\n",
    "latitude_ih_bcn = 41.39788693702297\n",
    "llongitude_ih_bcn = 2.190415594162285\n",
    "\n",
    "search_url = \"https://api.foursquare.com/v3/places/search\"\n",
    "search_params = {\n",
    "    \"query\": \"coffee\",\n",
    "    \"ll\": f\"{latitude_ih_bcn},{llongitude_ih_bcn}\",\n",
    "    \"radius\": 1000,\n",
    " }\n",
    "\n",
    "search_response = requests.get(search_url, params=search_params, headers=headers)\n",
    "\n",
    "if search_response.status_code == 200:\n",
    "    print(\"Top 10 coffee places near Ironhack:\")\n",
    "    for place in search_response.json()['results']:\n",
    "        name = place['name']\n",
    "        address = place.get('location', {}).get('formatted_address', 'No address')\n",
    "        print(f\"- {name} | {address}\")\n",
    "else:\n",
    "    print(\"Error searching for coffee places:\", search_response.status_code, search_response.text)"
   ]
  },
  {
   "cell_type": "markdown",
   "id": "941b5dbf",
   "metadata": {},
   "source": [
    "# 3. Now get the 5 CLOSEST coffe places. Make use of params: limit, near?"
   ]
  },
  {
   "cell_type": "code",
   "execution_count": null,
   "id": "fda8ddff",
   "metadata": {},
   "outputs": [
    {
     "name": "stdout",
     "output_type": "stream",
     "text": [
      "Top 10 coffee places near Ironhack:\n",
      "- Espacio 88 | Carrer Pamplona, 88, 08018 Barcelona Catalunya\n",
      "- SKYE Coffee Co | Calle Pamplona, 88 (C. de Pallars), 08018 Barcelona Catalunya\n",
      "- Syra Coffee Poblenou | Calle de Pujades, 100 (C. d'Àlaba), 08005 Barcelona Catalunya\n",
      "- Nømad Frutas Selectas | Calle de Pujades, 95 (C. de Badajoz), 08005 Barcelona\n",
      "- Granja Mabel | Marina, 114-116, 08018 Barcelona Catalunya\n"
     ]
    }
   ],
   "source": [
    "# API key from .env\n",
    "API_KEY = os.getenv(\"API_KEY\")\n",
    "\n",
    "headers = {\n",
    "    \"Accept\": \"application/json\",\n",
    "    \"Authorization\": API_KEY\n",
    "}\n",
    "\n",
    "# lat and long of IH barcelona (now closed) :(\n",
    "latitude_ih_bcn = 41.39788693702297\n",
    "llongitude_ih_bcn = 2.190415594162285\n",
    "\n",
    "search_url = \"https://api.foursquare.com/v3/places/search\"\n",
    "search_params = {\n",
    "    \"query\": \"coffee\",\n",
    "    \"ll\": f\"{latitude_ih_bcn},{llongitude_ih_bcn}\",\n",
    "    \"sort\": \"DISTANCE\", # to sort from closest to farthest\n",
    "    \"limit\": 5,\n",
    " }\n",
    "\n",
    "search_response = requests.get(search_url, params=search_params, headers=headers)\n",
    "\n",
    "if search_response.status_code == 200:\n",
    "    print(\"Top 10 coffee places near Ironhack:\")\n",
    "    for place in search_response.json()['results']:\n",
    "        name = place['name']\n",
    "        address = place.get('location', {}).get('formatted_address', 'No address')\n",
    "        print(f\"- {name} | {address}\")\n",
    "else:\n",
    "    print(\"Error searching for coffee places:\", search_response.status_code, search_response.text)"
   ]
  },
  {
   "cell_type": "markdown",
   "id": "d19904e8",
   "metadata": {},
   "source": [
    "# 4. Define a function that returns name, lat, long for starbucks OR restaurants AND for any given location"
   ]
  },
  {
   "cell_type": "code",
   "execution_count": 30,
   "id": "1fad5153",
   "metadata": {},
   "outputs": [
    {
     "name": "stdout",
     "output_type": "stream",
     "text": [
      "the nearest starbucks is Starbucks located at latitude: 41.402337 and longitude: 2.174068\n",
      "the nearest restaurant is Five Guys Sagrada Familia located at latitude: 41.404039 and longitude: 2.1735\n"
     ]
    }
   ],
   "source": [
    "def foursquare_places (venue, coordinates):\n",
    "\n",
    "    # API key from .env\n",
    "    API_KEY = os.getenv(\"API_KEY\")\n",
    "\n",
    "    headers = {\n",
    "        \"Accept\": \"application/json\",\n",
    "        \"Authorization\": API_KEY\n",
    "    }\n",
    "\n",
    "    search_url = \"https://api.foursquare.com/v3/places/search\"\n",
    "    search_params = {\n",
    "        \"query\": venue,\n",
    "        \"ll\": f\"{coordinates[\"lat\"]},{coordinates[\"long\"]}\",\n",
    "        \"sort\": \"DISTANCE\", # to sort from closest to farthest\n",
    "        \"limit\": 1,\n",
    "    }\n",
    "\n",
    "    search_response = requests.get(search_url, params=search_params, headers=headers)\n",
    "\n",
    "    if search_response.status_code == 200:\n",
    "        response = search_response.json()['results'][0]\n",
    "        name = response[\"name\"]\n",
    "        lat = response[\"geocodes\"][\"main\"][\"latitude\"]\n",
    "        lon = response[\"geocodes\"][\"main\"][\"longitude\"]\n",
    "        return f\"the nearest {venue} is {name} located at latitude: {lat} and longitude: {lon}\"\n",
    "\n",
    "    else:\n",
    "        print(\"Error searching for coffee places:\", search_response.status_code, search_response.text)\n",
    "\n",
    "# starbucks near Sagrada Familia coordinates\n",
    "print( foursquare_places(\"starbucks\", {\"lat\": 41.403742534366394, \"long\": 2.174430899043651}) )\n",
    "\n",
    "# restaurant near Sagrada Familia coordinates\n",
    "print( foursquare_places(\"restaurant\", {\"lat\": 41.403742534366394, \"long\": 2.174430899043651}) )\n"
   ]
  },
  {
   "cell_type": "markdown",
   "id": "1836c1a1",
   "metadata": {},
   "source": [
    "# 5. Export it into data folder as a json: `data/coffe_shops.json`"
   ]
  },
  {
   "cell_type": "code",
   "execution_count": 33,
   "id": "7ac5f2a8",
   "metadata": {},
   "outputs": [
    {
     "name": "stdout",
     "output_type": "stream",
     "text": [
      "[{'name': 'SKYE Coffee Co', 'lat': 41.396876, 'long': 2.191489}, {'name': 'Espacio 88', 'lat': 41.396993, 'long': 2.191171}, {'name': 'Syra Coffee Poblenou', 'lat': 41.396518, 'long': 2.19417}, {'name': 'Nømad Frutas Selectas', 'lat': 41.397964, 'long': 2.195571}, {'name': 'Cafeteria Industrial', 'lat': 41.399175, 'long': 2.195368}, {'name': 'Granja Mabel', 'lat': 41.394816, 'long': 2.187354}, {'name': 'Market Cuina Fresca', 'lat': 41.398365, 'long': 2.195559}, {'name': 'De Pa i Xocolata', 'lat': 41.393657, 'long': 2.188876}, {'name': 'Cacho', 'lat': 41.3931, 'long': 2.191004}, {'name': 'Three Marks Coffee', 'lat': 41.397197766354175, 'long': 2.1831947565078735}]\n"
     ]
    }
   ],
   "source": [
    "# I asume it means based on the first iteration?\n",
    "\n",
    "# API key from .env\n",
    "API_KEY = os.getenv(\"API_KEY\")\n",
    "\n",
    "headers = {\n",
    "    \"Accept\": \"application/json\",\n",
    "    \"Authorization\": API_KEY\n",
    "}\n",
    "\n",
    "# lat and long of IH barcelona (now closed) :(\n",
    "latitude_ih_bcn = 41.39788693702297\n",
    "llongitude_ih_bcn = 2.190415594162285\n",
    "\n",
    "search_url = \"https://api.foursquare.com/v3/places/search\"\n",
    "search_params = {\n",
    "    \"query\": \"coffee\",\n",
    "    \"ll\": f\"{latitude_ih_bcn},{llongitude_ih_bcn}\",\n",
    "    \"radius\": 1000,\n",
    " }\n",
    "\n",
    "search_response = requests.get(search_url, params=search_params, headers=headers)\n",
    "\n",
    "coffee_places = []\n",
    "\n",
    "if search_response.status_code == 200:\n",
    "    for place in search_response.json()['results']:\n",
    "        place_dict = {\n",
    "          \"name\": place['name'],\n",
    "          \"lat\": place[\"geocodes\"][\"main\"][\"latitude\"],\n",
    "          \"long\": place[\"geocodes\"][\"main\"][\"longitude\"]\n",
    "        }\n",
    "        coffee_places.append(place_dict)\n",
    "else:\n",
    "    print(\"Error searching for coffee places:\", search_response.status_code, search_response.text)\n",
    "\n",
    "print(coffee_places)\n",
    "with open(\"data/coffe_shops.json\", \"w\") as json_file:\n",
    "    json.dump(coffee_places, json_file, indent=4)\n",
    "\n"
   ]
  },
  {
   "cell_type": "markdown",
   "id": "2d77e99d",
   "metadata": {},
   "source": [
    "# BONUS: load it into MongoDB in a collection named \"ironcoffee\" using pymongo"
   ]
  },
  {
   "cell_type": "code",
   "execution_count": null,
   "id": "85b94955",
   "metadata": {},
   "outputs": [],
   "source": [
    "# your code here"
   ]
  }
 ],
 "metadata": {
  "kernelspec": {
   "display_name": "Python 3",
   "language": "python",
   "name": "python3"
  },
  "language_info": {
   "codemirror_mode": {
    "name": "ipython",
    "version": 3
   },
   "file_extension": ".py",
   "mimetype": "text/x-python",
   "name": "python",
   "nbconvert_exporter": "python",
   "pygments_lexer": "ipython3",
   "version": "3.13.2"
  },
  "toc": {
   "base_numbering": 1,
   "nav_menu": {},
   "number_sections": true,
   "sideBar": true,
   "skip_h1_title": false,
   "title_cell": "Table of Contents",
   "title_sidebar": "Contents",
   "toc_cell": false,
   "toc_position": {},
   "toc_section_display": true,
   "toc_window_display": true
  }
 },
 "nbformat": 4,
 "nbformat_minor": 5
}
